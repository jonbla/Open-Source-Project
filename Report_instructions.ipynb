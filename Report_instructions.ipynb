{
 "cells": [
  {
   "cell_type": "markdown",
   "metadata": {},
   "source": [
    "# AM6020 Written report\n",
    "\n",
    "## Submission\n",
    "\n",
    "This assignment must be **work only from within your team**. Remember the Plagiarism Policy that you agreed to (near the top of the AM6020 Modules page on Canvas).\n",
    "\n",
    "Please submit your report electronically:\n",
    "- Upload the report as a jupyter notebook and as PDF to the Written Report submission on Canvas.\n",
    "\n",
    "**If you submit this assignment in late or to the wrong location, a mark of zero will be recorded unless you make a case for mitigation by submitting supporting documentation (e.g. medical certificates) to the School of Mathematical Sciences Office <sms@ucc.ie>.**\n"
   ]
  },
  {
   "cell_type": "markdown",
   "metadata": {},
   "source": [
    "## Team work\n",
    "\n",
    "The written report is a team-task. Teams have been allocated randomly (although there is a split between Masters programmes). They are:\n",
    "\n",
    "1. Oluwaseun (124117521), Ruairi (124118889) and Julie (124104915);\n",
    "2. Farhan (124111421), Sabrina (124121504) and Eshaana (124102682);\n",
    "3. Godly (124122969), Chandresh (124122347) and Josh (120302216);\n",
    "4. Nayana (124118085), Shawn (124109168) and Sean (120455944);\n",
    "5. Wanchen (119100079), Eesha (124104036) and Hoang (124108611);\n",
    "6. Cian (120742001), Minnu (124105252) and Yanyun (124116578);\n",
    "7. Giulia (120344013), Eren (120446946) and Jennifer (119418124);\n",
    "8. Tulgat (124111845), Elise (120389771) and Thomas (120372796);\n",
    "9. Jose (124116773), Xiaorui (124116958) and Aidan (120391173);\n",
    "10. Gagan (124103273), Sankita (124109096) and Kunal (124108065);\n",
    "11. Antoine (124117071), Shuangyu (124103348) and Nabel (124101503);\n",
    "12. Yiyue (124114766), Konrad (116385271) and Chinmay (124104473);\n",
    "13. Shashank (124113611), Anish (124111245) and Daniel R (124118034);\n",
    "14. Zhenping (124112086), Daniel K (124114004) and Yun (124109249);\n",
    "15. Brian (120425464) and Aravindkumar (124108364);\n",
    "16. Vishal Thomas (124108347) and Daniel S (123120712)."
   ]
  },
  {
   "cell_type": "markdown",
   "metadata": {},
   "source": [
    "## Topics\n",
    "\n",
    "The primary goal of the report is to demonstrate your understanding of a highly-used algorithm.\n",
    "\n",
    "You may choose from the following algorithms/methods:\n",
    "- Principle component analysis (Lecture 11)\n",
    "- Canny edge detection (Lecture 14)\n",
    "- K-means clustering: with application to image segmentation, sequence analysis, etc. (Lectures 15, 18)\n",
    "- Hough line detection (Lecture 15)\n",
    "- Adaptive learning rate: e.g. Line search, Conjugate gradient descent (Lecture 16)\n",
    "- Gradient descent with basin hopping (Lecture 16)\n",
    "- Differential evolution (Lecture 16)\n",
    "- Simplex method (Lecture 17)\n",
    "- Smith-Waterman (Lecture 18)\n",
    "- A* path searching (Lecture 19)\n"
   ]
  },
  {
   "cell_type": "markdown",
   "metadata": {},
   "source": [
    "## Content\n",
    "\n",
    "Within your report you must:\n",
    "- Describe how the chosen algorithm works;\n",
    "- Optional: Write your own implementation of the algorithm using only NumPy;\n",
    "- Demonstrate the algorithm and how it performs with data (either self-made \"fake data\" or sourced from the web);\n",
    "- Discuss the importance of the algorithm parameters.\n",
    "\n",
    "The report should be 2000-3500 words long (if you like, up to about 4000 words is fine too). \n",
    "The large range for word count is because if you write your own algorithm using NumPy, you also will not be expected to provide as much text. Some algorithms are more complicated than others, so use your own judgment here. \n",
    "\n",
    "If you are at any time worried about the length of your report, please ask for advice. \n",
    "\n",
    "In all cases, the report will be graded on presentation, implementation and your ability to demonstrate your understanding of the algorithm."
   ]
  },
  {
   "cell_type": "markdown",
   "metadata": {},
   "source": [
    "## Guide for report structure\n",
    "\n",
    "The structure of your report should be as follows (or very similar):\n",
    "\n",
    "1. Author contributions\n",
    "    - Clearly list who wrote what parts of the report\n",
    "1. Introduction\n",
    "   - Motivate the importance of your application (science, market, societal impact, etc.)\n",
    "   - Reference relevant literature and background knowledge \n",
    "2. Algorithm design\n",
    "   - Describe (in your own words) how the algorithm works\n",
    "   - Explain how the algorithm compares to related algorithms\n",
    "2. Algorithm demonstration\n",
    "   - Show that the algorithm works on multiple examples\n",
    "3. Conclusions\n",
    "4. References\n",
    "5. Appendix\n",
    "   - Include your code for algorithm implementation, generating of figures, etc.\n",
    "\n",
    "The report may be written in LaTeX or as a Jupyter notebook. "
   ]
  }
 ],
 "metadata": {
  "kernelspec": {
   "display_name": "Python 3",
   "language": "python",
   "name": "python3"
  },
  "language_info": {
   "codemirror_mode": {
    "name": "ipython",
    "version": 3
   },
   "file_extension": ".py",
   "mimetype": "text/x-python",
   "name": "python",
   "nbconvert_exporter": "python",
   "pygments_lexer": "ipython3",
   "version": "3.8.2"
  }
 },
 "nbformat": 4,
 "nbformat_minor": 2
}
