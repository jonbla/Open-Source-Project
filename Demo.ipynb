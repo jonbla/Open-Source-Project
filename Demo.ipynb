{
 "cells": [
  {
   "cell_type": "markdown",
   "id": "99f5507d-3801-40d3-b074-4d04b49246ae",
   "metadata": {},
   "source": [
    "<h2>Demo</h2>\n",
    "<p>Here are few examples for demonstrating A* algorithm</p>\n",
    "<h4>1. Finding shortest path in the graphs</h4>\n",
    "<p>Here we can see the comparison between the Dijkstras algorithm and A* search algorithm. It also shows why we need to devise a proper heuristic function for A*, or else Dijkstras algorithm is more suitable for calculating shortest path. The below demonstration is interactive where you can select the number of nodes in the graph using a slider. You can also choose the start node and end node to calculate the shortest path.</p>\n",
    "<p>The graph used here is watts_strogatz_graph (a random graph generator) with nearest neighbours as $8$ and probability of the connectivity between nodes is $0.2$. </p>\n",
    "<p>Assuming weight of all edges is $1$</p>\n",
    "<p> Heuristic function used here is L1 norm between current node and end node: $L1 = ||current\\_node - end\\_node||$</p>"
   ]
  },
  {
   "cell_type": "code",
   "execution_count": 4,
   "id": "c929a5f3-7d46-4d26-b0cd-23416e01ef80",
   "metadata": {},
   "outputs": [],
   "source": [
    "import networkx as nx\n",
    "import time\n",
    "import ipywidgets as widgets\n",
    "import numpy as np\n",
    "from IPython.display import display\n",
    "import matplotlib.pyplot as plt\n",
    "\n",
    "seed = 6020"
   ]
  },
  {
   "cell_type": "code",
   "execution_count": 11,
   "id": "eacc7b99",
   "metadata": {},
   "outputs": [
    {
     "data": {
      "application/vnd.jupyter.widget-view+json": {
       "model_id": "8d95473da5ca4748ae2f8ae2894b4828",
       "version_major": 2,
       "version_minor": 0
      },
      "text/plain": [
       "VBox(children=(IntSlider(value=1000, description='nodes: ', max=5000, min=500, step=200), IntText(value=0, des…"
      ]
     },
     "metadata": {},
     "output_type": "display_data"
    },
    {
     "data": {
      "application/vnd.jupyter.widget-view+json": {
       "model_id": "e190b4ea0a784f079e50b803dfbed0bc",
       "version_major": 2,
       "version_minor": 0
      },
      "text/plain": [
       "Output()"
      ]
     },
     "metadata": {},
     "output_type": "display_data"
    }
   ],
   "source": [
    "canvas = []\n",
    "nodes_slider = widgets.IntSlider(description=\"nodes: \",max=5000, min=500, step=200, value=1000)\n",
    "start_node = widgets.IntText(description=\"Start node: \", value=0)\n",
    "end_node = widgets.IntText(description=\"End node: \", value=0)\n",
    "canvas+=[nodes_slider, start_node, end_node]\n",
    "\n",
    "output = widgets.Output()\n",
    "\n",
    "def slider_update(change):\n",
    "    \n",
    "    nodes=nodes_slider.get_interact_value()\n",
    "    start=start_node.get_interact_value() \n",
    "    end=end_node.get_interact_value()\n",
    "    with output:\n",
    "        output.clear_output(wait=True)\n",
    "        G = nx.watts_strogatz_graph(nodes,8,0.2,seed)\n",
    "        start_time = time.process_time_ns()\n",
    "        dij_path = nx.dijkstra_path(G,start,end)\n",
    "        end_time = time.process_time_ns()\n",
    "        print(\"Time taken to compute Dijkstra's path: \",end_time-start_time)\n",
    "        dij_graph = nx.Graph([(dij_path[i],dij_path[i+1]) for i in range(len(dij_path)-1)])\n",
    "        plt.figure(figsize=(6, 4))\n",
    "        nx.draw(\n",
    "            dij_graph,\n",
    "            with_labels=True,\n",
    "            node_color=\"lightgreen\",\n",
    "            edge_color=\"blue\",\n",
    "            node_size=600,\n",
    "            font_size=10,\n",
    "        )\n",
    "        plt.show()\n",
    "        start_time = time.process_time_ns()\n",
    "        astar_path = nx.astar_path(G,start,end,lambda a,b: abs(b-a))\n",
    "        end_time = time.process_time_ns()\n",
    "        print(\"Time taken to compute Astar path: \", end_time-start_time)\n",
    "        astar_graph = nx.Graph(nx.Graph([(astar_path[i],astar_path[i+1]) for i in range(len(astar_path)-1)]))\n",
    "        plt.figure(figsize=(6, 4))\n",
    "        nx.draw(\n",
    "            astar_graph,\n",
    "            with_labels=True,\n",
    "            node_color=\"lightgreen\",\n",
    "            edge_color=\"blue\",\n",
    "            node_size=600,\n",
    "            font_size=10,\n",
    "        )\n",
    "        plt.show()\n",
    "\n",
    "nodes_slider.observe(slider_update, names=\"value\")\n",
    "start_node.observe(slider_update, names=\"value\")\n",
    "end_node.observe(slider_update, names=\"value\")\n",
    "\n",
    "display(widgets.VBox(canvas), output)"
   ]
  },
  {
   "cell_type": "markdown",
   "id": "27a371fc",
   "metadata": {},
   "source": [
    "<h4>Observation</h4>\n",
    "<p>As you can see the computation time differs for both algorithm when number of nodes is $3700$, start node is $0$ and end node is $100$. For Dijkstras it took $15625000\\space ns$ (nano seconds), and for A* it took $0\\space ns$. But the caveat is A* doesn't give you the shortest path which is of length $8$ whereas Dijkstras gives you the optimal path of length $5$. Therefore we can conclude that if we don't get the heuristics correct, A* will not work correctly as we imagined.</p>"
   ]
  },
  {
   "cell_type": "markdown",
   "id": "f14fe493-1131-4780-ade0-53c1f072bca2",
   "metadata": {},
   "source": [
    "<h4>2. A* algorithm used in grids</h4>\n",
    "<p>We will create a grid of size $n\\times n$, where you can choose the grid size $n$, start node and end node to calculate shortest path. You can also add blocks in the grid. After placing blocks (if any), start and end nodes, just click <b>calculate</b> button to find the shortest path using A*. After the calculation, you can see green-colored cells in the grid which denotes the shortest path between start and end node</p>"
   ]
  },
  {
   "cell_type": "code",
   "execution_count": 6,
   "id": "764374d2",
   "metadata": {},
   "outputs": [
    {
     "data": {
      "application/vnd.jupyter.widget-view+json": {
       "model_id": "7bd260acc40742ffa795a82c95749f10",
       "version_major": 2,
       "version_minor": 0
      },
      "text/plain": [
       "HBox(children=(IntText(value=5, description='size'),))"
      ]
     },
     "metadata": {},
     "output_type": "display_data"
    },
    {
     "data": {
      "application/vnd.jupyter.widget-view+json": {
       "model_id": "ebf3d24d8f1c439b92cf34380631d5ad",
       "version_major": 2,
       "version_minor": 0
      },
      "text/plain": [
       "Output()"
      ]
     },
     "metadata": {},
     "output_type": "display_data"
    }
   ],
   "source": [
    "canvas = []\n",
    "grid = None\n",
    "grid_size = None\n",
    "grid_graph = None\n",
    "cells = None\n",
    "block = None\n",
    "start = None\n",
    "end = None\n",
    "check_types = {}\n",
    "\n",
    "inp_grid_size = widgets.IntText(description='size', value=5)\n",
    "output = widgets.Output()\n",
    "\n",
    "canvas+=[inp_grid_size]\n",
    "\n",
    "def heuristics(a,b):\n",
    "    x0,y0 = int(a[0]), int(a[1])\n",
    "    x1,y1 = int(b[0]), int(b[1])\n",
    "    return ((x1-x0)**2 + (y1-y0)**2)**0.5\n",
    "\n",
    "def toggler(change):\n",
    "    owner_name = change.get(\"owner\",{\"description\": \"\"}).description\n",
    "    for key in check_types.keys():\n",
    "        if key != owner_name:\n",
    "            check_types[key][\"obj\"].value = False\n",
    "\n",
    "def update_grid(widget):\n",
    "    global start_node, end_node\n",
    "    if (widget.description == \"Calculate\"):\n",
    "        start_time = time.process_time_ns()\n",
    "        astar_paths = nx.astar_path(grid_graph, start_node, end_node, heuristics)\n",
    "        end_time = time.process_time_ns()\n",
    "        with output:\n",
    "            print(\"Time to calculate the path: \", end_time - start_time)\n",
    "        # Highlight paths of astar\n",
    "        for node in astar_paths[1:-1]:\n",
    "            i,j = node[0], node[1]\n",
    "            cells[i].children[j].style.button_color=\"green\"\n",
    "             \n",
    "    else:\n",
    "        # for cells\n",
    "        x,y = [int(i) for i in widget.description.split(\",\")]\n",
    "        cell_type = [val for val in check_types.values() if val[\"obj\"].value]\n",
    "        if cell_type:\n",
    "            cell = cell_type[0]\n",
    "            if cell[\"ops\"] == \"remove_cell\":\n",
    "                if cell[\"color\"] == widget.style.button_color:\n",
    "                    edges = [((x-i,y-j),(x,y)) for (i,j) in [(0,1),(1,0), (0,-1), (-1,0), (1,1),(1,-1), (-1,-1), (-1,1)] if (0<=(x-i)<grid_size) and (0<=(y-j)<grid_size)]\n",
    "                    grid_graph.add_edges_from(edges)\n",
    "                    widget.style.button_color = \"lightgrey\"\n",
    "                    return\n",
    "                grid_graph.remove_node((x,y))\n",
    "            elif cell[\"ops\"] == \"set_start_node\":\n",
    "                start_node = (x,y)\n",
    "            elif cell[\"ops\"] == \"set_end_node\":\n",
    "                end_node = (x,y)\n",
    "            widget.style.button_color = cell[\"color\"]\n",
    "            return\n",
    "        widget.style.button_color = \"lightgrey\"\n",
    "\n",
    "\n",
    "def reset(_):\n",
    "    create_grid()\n",
    "\n",
    "def create_grid(change=None):\n",
    "    global grid_graph, cells, grid_size\n",
    "    grid_size = inp_grid_size.get_interact_value()\n",
    "    grid_graph = nx.grid_graph((grid_size,grid_size))\n",
    "    for node in grid_graph.nodes():\n",
    "        x,y = node\n",
    "        edges = [((x-i,y-j),(x,y)) for (i,j) in [(1,1),(1,-1), (-1,-1), (-1,1)] if (0<=(x-i)<grid_size) and (0<=(y-j)<grid_size)]\n",
    "        grid_graph.add_edges_from(edges)\n",
    "    with output:\n",
    "        output.clear_output(wait=True)\n",
    "        plot_canvas = []\n",
    "        cells = []\n",
    "        for i in range(grid_size):\n",
    "            row = []\n",
    "            for j in range(grid_size):\n",
    "                cell = widgets.Button(\n",
    "                    description=f\"{i},{j}\",  \n",
    "                    layout=widgets.Layout(width='20px', height='20px'),\n",
    "                    style=widgets.ButtonStyle(font_size=\"10px\", button_color=\"lightgrey\")\n",
    "                    ) \n",
    "                cell.on_click(update_grid)\n",
    "                row.append(cell)\n",
    "            cells.append(widgets.HBox(row))\n",
    "        plot_canvas.append(widgets.VBox(cells))\n",
    "        \n",
    "        # Blocks\n",
    "        block = widgets.Checkbox(description=\"Add Block\")\n",
    "        block.observe(toggler)\n",
    "        check_types[\"Add Block\"] = {\"obj\": block, \"color\": \"black\", \"ops\": \"remove_cell\"}\n",
    "        # start node\n",
    "        start_node_inp = widgets.Checkbox(description=\"Start Node\")\n",
    "        start_node_inp.observe(toggler)\n",
    "        check_types[\"Start Node\"] = {\"obj\": start_node_inp, \"color\": \"blue\", \"ops\": \"set_start_node\"}\n",
    "        # end node\n",
    "        end_node_inp = widgets.Checkbox(description=\"End Node\")\n",
    "        end_node_inp.observe(toggler)\n",
    "        check_types[\"End Node\"] = {\"obj\": end_node_inp, \"color\": \"red\", \"ops\": \"set_end_node\"}\n",
    "        # Calculate distance\n",
    "        calc_btn = widgets.Button(description=\"Calculate\")\n",
    "        calc_btn.on_click(update_grid)\n",
    "        # Reset entire grid\n",
    "        reset_btn = widgets.Button(description=\"Reset\")\n",
    "        reset_btn.on_click(reset)\n",
    "        # Add it to canvas plot\n",
    "        plot_canvas .append(widgets.VBox([block, start_node_inp, end_node_inp, calc_btn,reset_btn]))\n",
    "        display(widgets.HBox(plot_canvas))          \n",
    "\n",
    "inp_grid_size.observe(create_grid, names=\"value\")\n",
    "display(widgets.HBox(canvas), output)\n",
    "create_grid()"
   ]
  },
  {
   "cell_type": "markdown",
   "id": "89aa19f1-4d44-483b-b101-ebe544d8c08e",
   "metadata": {},
   "source": [
    "<h4>Observation</h4>\n",
    "<p>For below state of the grid:</p>\n",
    "<ol>\n",
    "    <li>Grid size: $5 \\times 5$</li>\n",
    "    <li>Blocks are placed at: $(2,1), (2,2), (1,2)$</li>\n",
    "    <li>Start Node: $(0,0)$</li>\n",
    "    <li>End Node: $(3,3)$</li>\n",
    "</ol>\n",
    "<p>The reason for selecting $(1,1)$ as the first cell in the shortest path is because the value of heuristic function evaluated at $(1,1)$ is lesser compared to other cells $(1,0), (0,1)$. </p>\n",
    "<center>$Heuristics((1,1),(3,3)) = 2.83$</center>\n",
    "<center>$Heuristics((1,0),(3,3)) = 3.61$</center>\n",
    "<center>$Heuristics((0,1),(3,3)) = 3.61$</center>"
   ]
  },
  {
   "cell_type": "code",
   "execution_count": null,
   "id": "eedaa66a-f301-4083-aa8d-089b7257bafc",
   "metadata": {},
   "outputs": [],
   "source": []
  }
 ],
 "metadata": {
  "kernelspec": {
   "display_name": "Python 3 (ipykernel)",
   "language": "python",
   "name": "python3"
  },
  "language_info": {
   "codemirror_mode": {
    "name": "ipython",
    "version": 3
   },
   "file_extension": ".py",
   "mimetype": "text/x-python",
   "name": "python",
   "nbconvert_exporter": "python",
   "pygments_lexer": "ipython3",
   "version": "3.12.7"
  }
 },
 "nbformat": 4,
 "nbformat_minor": 5
}
