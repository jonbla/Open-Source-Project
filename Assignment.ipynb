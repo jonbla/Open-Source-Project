{
 "cells": [
  {
   "cell_type": "code",
   "execution_count": 1,
   "metadata": {},
   "outputs": [],
   "source": []
  },
  {
   "cell_type": "markdown",
   "metadata": {},
   "source": [
    "# A* Algorithm\n",
    "\n",
    "## Pramble\n",
    "\n",
    "**A\\*** is a heuristic search algorithm for increasing the efficiency of Djikstra’s algorithm for pathfinding and graph traversal. Here heuristic information means to find a suitable or an intuitive function that helps us to find the shortest path between 2 nodes in a graph, efficiently. It is used in gaming applications especially to design the movements of agents when they are aiming to reach a goal. It is used in network connection systems for sending packets between routers, cost effectively. It also helps robots in navigation$^{[1]}$. It uses the heuristic cost of greedy best first search algorithm and exact cost of Dijkstra's algorithm to find the shortest path. It calculates the heuristic distance from node **n** to the end node and exact cost from start node to **n**.\n",
    "<p><center>$Distance_{new}(start,v) = Heuristic(v,end) + Distance_{old}(start,v)$</center></p>\n",
    "\n",
    "$Distance_{new}(start,v)$ is the new updated distance between start node and node **v**, $Distance_{old}(start,v)$ is the exact cost of reaching node **v** from start node and $Heuristic(v,end)$ is the heuristic cost of reaching to end node from **v**. After updating the distance in the graph, we will calculate the shortest path.\n",
    "\n",
    "<h4>Navigation through Maps</h4>\n",
    "<p>For finding optimal path between 2 cities or places, we can use A* search algorithm to calculate the shortest path between them. Here the heuristic function could be the air distance(euclidean distance) or great-circle distance between 2 cities.$^{[2]}$</p>\n",
    "\n",
    "<h4>Video Games</h4>\n",
    "Pathfinding is a crucial part in Video Games. A* is one of the widely used algorithms in games especially when it involves path-finding problems such as moving characters from one grid point to another grid point. Due to the exponential growth in complexity of the games, researchers focused on improving the A* algorithm to meet the demands of modern games. Many of the optimizations include improving heuristic functions, map representations(search space), introducing new data structures and reducing memory consumptions.$^{[3]}$\n",
    "\n",
    "![title](fig1.png)\n",
    "<p>Fig 1: Screenshot from civilization V game, where it uses hexagonal tiles as search space$^{[3]}$</p>"
   ]
  },
  {
   "cell_type": "markdown",
   "metadata": {},
   "source": [
    "## Short history (Daniel Sedlov 123120712)\n",
    "\n",
    "<p>The A* Algorithm was invented by Bertram Raphael (Goldstein, A., 1991, July 25). It was Invented in the early 1970s as part of development of “Shakey the Robot”, a rather uninspired name for an early robot used for navigating rooms autonomously, funded by DARPA (DARPA). <br>\n",
    "Much like the Boston Dynamics robots making the news today, this robot was supposed to be science fiction turned into reality. While primitive, it navigated essentially the same as modern robots and self-driving cars do today. It had a destination in mind it was trying to reach, and a collection of sensors informing it of occupied spaces, i.e. obstacles. This set the stage for A*.</p>\n",
    "\n",
    "Shakey the Robot found its path by pointing and heading into the direction of the end point where it wanted to go, and finding the most optimal route around obstacles it encountered by looking left and right around the obstacles to get a sense for its surroundings. [3]\n",
    "This is in essence how the A* algorithm works today, by imitating the movements and actions of Shakey the robot looking to its destination, and shaking around once it encounters an obstacle. "
   ]
  },
  {
   "cell_type": "markdown",
   "metadata": {},
   "source": [
    "## Core\n",
    "\n",
    "### Implementation (Daniel Sedlov 123120712)\n",
    "\n",
    "There are many ways to search for a path, each having their own benefits, however the strength of the A* algorithm comes from the guarantee that it finds the shortest path on a grid more efficiently than other algorithms, given a known start and end point. At a high level, it achieves this by first assuming there are no obstacles, and simply moving in that direction. \n",
    "Once it inevitably encounters an obstacle, it searches around it to find the shortest path. Crucially, it is not greedy. This means that when it finds a short path around the obstacle, it doesn’t lock in that path, so if later it finds too many other detours, it is willing to go back and take a path that is longer in the short term, to find a path shorter overall."
   ]
  },
  {
   "cell_type": "markdown",
   "metadata": {},
   "source": [
    "To explore this in more detail, we will set up our environment in a grid.\n",
    "\n",
    "We assume that all squares in this grid can be in one of 3 states: open, closed, or not considered.\n",
    "Open means that we have not yet explored that cell but it in the queue of options. \n",
    "Closed means we have explored it, and do not need to check it anymore.\n",
    "Not considered simply means neither open nor closed, we have not explored it yet, and we’re not really thinking about it yet either.\n",
    "\n",
    "For any of the algorithm to make sense, we have to prioritise the order in which we explore the open cells. This means that unlike a simple breadth search, we need a way to say “*this cell to the right has more promise than the cell to my left*”.\n",
    "Importantly, we also need to make sure that we have a mechanism to return to earlier points in the path, unlike a greedy pathfinding solution. [5]"
   ]
  },
  {
   "cell_type": "markdown",
   "metadata": {},
   "source": [
    "To break this down a bit more and in plain language, lets assign each cell to have 3 values:\n",
    "\n",
    "g: The distance to the goal as the crow flies\n",
    "h: The distance from the start as the crow flies\n",
    "cost: the sum of the 2\n",
    "\n",
    "The basic loop is as follows:\n",
    "\n",
    "Step 1\n",
    "If end is not found, explore the next cell by finding the surrounding cells that are not closed, calculate the g, h, and cost values, set them to open if they are not already (at the beginning, the next cell is just the starting cell)\n",
    "\n",
    "Step 2\n",
    "Order the open cells by cost\n",
    "\n",
    "Step 3\n",
    "Explore all open cells in order of cost\n",
    "If there are no ties, go to Step 1\n",
    "\n",
    "Step 4\n",
    "If there is a tie, explore the cell with a lower h\n",
    "If there is still a tie, then select one at random\n",
    "Go to Step 1\n"
   ]
  },
  {
   "cell_type": "markdown",
   "metadata": {},
   "source": [
    "## Demo (Combined)\n",
    "[Try to visualize the algorithm]"
   ]
  },
  {
   "cell_type": "markdown",
   "metadata": {},
   "source": [
    "<h3>Other Search Algorithms</h4>\n",
    "\n",
    "<h5>Dijkstra's Algorithm$^{[4]}$</h5>\n",
    "<p>An algorithm to find the shortest path in a graph with positive edge weights. It maintains a set of visited and unvisited vertices. It moves to next unvisited node from a node and update the distance if its lower than the preivous. This process continue until the destination vertex is reached.</p>\n",
    "\n",
    "<h5>Greedy Best First Search$^{[5]}$</h5>\n",
    "<p>A pathfinding algorithm that works by utilising heuristic function to determine cost effective paths. It evaluates the cost of each path from the current node to the end node and selects the low cost path. This process is repeated until the end node is reached.</p>\n",
    "\n",
    "<h5>Bellman-Ford Algorithm$^{[6]}$</h5>\n",
    "<p>It is a shortest path algorithm which works well in negative weighted edges. It updates the shortest distance of node, if a shorter path is found through another node.</p>\n",
    "\n",
    "<h5>Floyd-Warshall Algorithm$^{[7]}$</h5>\n",
    "<p>It's the shortest path finding algorithm for all pairs of vertices. For reducing time complexity, it uses Dynamic Programming approach to find the shortest path between vertices, if possible. It doesn’t work for negative cycles, where your sum of edges in a cycle is less than zero.\n",
    "</p>\n",
    "<h3>Comparisons</h3>\n",
    "<p>For understanding how A* algorithm differs from above mentioned path finding algorithms, we are using certain features to differ them, such as:</p>\n",
    "<p>\n",
    "    <li><b>Optimization</b>: Discuss on what area algorithm is optimized for.$^{[4]}$\n",
    "        <ol>\n",
    "        <li><b>Greedy Best First Search</b>: Finding shortest path between single source node and all other nodes based on heuristic function that depends on current node and end node.</li>\n",
    "        <li><b>Dijkstra's Algorithm</b>: Finding shortest path between single source node and all other nodes with positive weighted edges.</li>\n",
    "        <li><b>Bellman-Ford Algorithm</b>: Finding shortest path between single source node and all other nodes including negative weighted edges.</li>\n",
    "        <li><b>Floyd-Warshall Algorithm</b>: Finding shortest path between all pairs of nodes with only positive weighted edges.</li>\n",
    "        <li><b>A* Algorithm</b>: Finding shortest path between start and end nodes by reducing search space</li>\n",
    "        </ol>\n",
    "    </li>\n",
    "    <li><b>Relaxation</b>: Discuss on how weights are updated in each iteration.$^{[4]}$\n",
    "        <ol>\n",
    "        <li><b>Greedy Best First Search</b>: It finds the node having the smallest distance in a greedy approach and updates the distance of its neighbours.</li>\n",
    "        <li><b>Dijkstra's Algorithm</b>: It finds the node having the smallest distance based on the actual cost and updates the distance of its neighbours.</li>\n",
    "        <li><b>Bellman-Ford Algorithm</b>: It considers all possible paths to nodes and updates the distance of each node.</li>\n",
    "        <li><b>Floyd-Warshall Algorithm</b>: It considers all possible paths to nodes and updates the distance of each node.</li>\n",
    "        <li><b>A* Algorithm</b>: It chooses the node having minimal sum of distance from start node and heuristic distance from end node. Weights are updated after adding heuristics.</li>\n",
    "        </ol>\n",
    "    </li>\n",
    "    <li><b>Time Complexity</b>: Discuss about the time taken by algorithm to complete. For below, $E$ stands for edges in the graph and $V$ stands for vertices in the graph.$^{[4]}$\n",
    "        <ol>\n",
    "        <li><b>Greedy Best First Search</b>: It depends on heuristic function.</li>\n",
    "        <li><b>Dijkstra's Algorithm</b>: Average is <b>$O(E \\times log(V))$</b>, worst is <b>$O(V^2)$</b>. </li>\n",
    "        <li><b>Bellman-Ford Algorithm</b>: It has a time complexity of <b>$O(VE)$</b>.</li>\n",
    "        <li><b>Floyd-Warshall Algorithm</b>: It has time complexity of $O(V^3)$.</li>\n",
    "        <li><b>A* Algorithm</b>: Time complexity depends on heuristic function.</li>\n",
    "        </ol>\n",
    "    </li>\n",
    "    <li><b>Search Techniques</b>: Discuss about the search techniques such as the parameters involved in updating weight functions.$^{[4]}$\n",
    "        <ol>\n",
    "        <li><b>Greedy Best First Search</b>: It uses heuristic function to reach to the end node.</li>\n",
    "        <li><b>Dijkstra's Algorithm, Bellman-Ford Algorithm, Floyd-Warshall Algorithm</b>: It uses the weights initialized in the graph for calculating the shortest path.</li>\n",
    "            <li><b>A* Algorithm</b>: It uses weights initialised and heuristic function to guide the search to end node</li>\n",
    "        </ol>\n",
    "    </li>\n",
    "</p>"
   ]
  },
  {
   "cell_type": "markdown",
   "metadata": {},
   "source": [
    "## Variants\n",
    "<h4>Heirarchical Pathfinding A* (HPA*) .$^{[3]}$</h4>\n",
    "<p>Using hierarchical A*, we can reduce the search space hierarchically. For example, if we are going to Blackrock, Dublin from Kinsale, Cork (as shown in Fig 2.), by using A* implementation we will find all the cities in each county as nodes and find its heuristic function value to compute the shortest path between these two. If we use hierarchical A* algorithm, we can reduce the size of search space by considering its counties as its nodes, not the cities. First travel to the neighbourhood of the starting node i.e. boundary of Cork County. Then find the neighbourhood of the end node which is Dublin. After reaching the neighbourhood, travel to the end node i.e. Blackrock. As you can see we have eliminated the cities(nodes) that are not part of Cork and Dublin, and thus reduced search space dramatically resulting in higher efficiency. </p>\n",
    "\n",
    "![title](fig2.png)\n",
    "<p>Fig 2: Red lined circles can be denoted as boundaries of start and end nodes</p>\n"
   ]
  },
  {
   "cell_type": "markdown",
   "metadata": {},
   "source": [
    "## Conclusions (Daniel Sedlov 123120712)\n",
    "[Summarize everything here]"
   ]
  },
  {
   "cell_type": "code",
   "execution_count": null,
   "metadata": {},
   "outputs": [],
   "source": []
  }
 ],
 "metadata": {
  "kernelspec": {
   "display_name": "Python 3",
   "language": "python",
   "name": "python3"
  },
  "language_info": {
   "codemirror_mode": {
    "name": "ipython",
    "version": 3
   },
   "file_extension": ".py",
   "mimetype": "text/x-python",
   "name": "python",
   "nbconvert_exporter": "python",
   "pygments_lexer": "ipython3",
   "version": "3.8.2"
  }
 },
 "nbformat": 4,
 "nbformat_minor": 4
}
