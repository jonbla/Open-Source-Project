{
 "cells": [
  {
   "cell_type": "code",
   "execution_count": 1,
   "metadata": {},
   "outputs": [],
   "source": []
  },
  {
   "cell_type": "markdown",
   "metadata": {},
   "source": [
    "# A* Algorythm\n",
    "\n",
    "## Pramble\n",
    "\n",
    "[Basically explain here what it is]"
   ]
  },
  {
   "cell_type": "markdown",
   "metadata": {},
   "source": [
    "## Short history (Daniel Sedlov 123120712)\n",
    "\n",
    "<p>The A* Algorithm was invented by Bertram Raphael (Goldstein, A., 1991, July 25). It was Invented in the early 1970s as part of development of “Shakey the Robot”, a rather uninspired name for an early robot used for navigating rooms autonomously, funded by DARPA (DARPA). <br>\n",
    "Much like the Boston Dynamics robots making the news today, this robot was supposed to be science fiction turned into reality. While primitive, it navigated essentially the same as modern robots and self-driving cars do today. It had a destination in mind it was trying to reach, and a collection of sensors informing it of occupied spaces, i.e. obstacles. This set the stage for A*.</p>\n",
    "\n",
    "Shakey the Robot found its path by pointing and heading into the direction of the end point where it wanted to go, and finding the most optimal route around obstacles it encountered by looking left and right around the obstacles to get a sense for its surroundings. [3]\n",
    "This is in essence how the A* algorithm works today, by imitating the movements and actions of Shakey the robot looking to its destination, and shaking around once it encounters an obstacle. "
   ]
  },
  {
   "cell_type": "markdown",
   "metadata": {},
   "source": [
    "## Core (Daniel Sedlov 123120712)\n",
    "\n",
    "### Implementation\n",
    "\n",
    "There are many ways to search for a path, each having their own benefits, however the strength of the A* algorithm comes from the guarantee that it finds the shortest path on a grid more efficiently than other algorithms, given a known start and end point. At a high level, it achieves this by first assuming there are no obstacles, and simply moving in that direction. Once it inevitably encounters an obstacle, it searches around it to find the shortest path. Crucially, it is not greedy. This means that when it finds a short path around the obstacle, it doesn’t lock in that path, so if later it finds too many other detours, it is willing to go back and take a path that is longer in the short term, to find a path shorter in the long term. [4]"
   ]
  },
  {
   "cell_type": "markdown",
   "metadata": {},
   "source": [
    "To explore this in more detail, we will set up our environment in a grid.\n",
    "\n",
    "We assume that all squares in this grid can be in one of 3 states: open, closed, or not considered.\n",
    "Open means that we have not yet explored that cell but it in the queue of options. \n",
    "Closed means we have explored it, and do not need to check it anymore.\n",
    "Not considered simply means neither open nor closed, we have not explored it yet, and we’re not really thinking about it yet either.\n",
    "\n",
    "For any of the algorithm to make sense, we have to prioritise the order in which we explore the open cells. This means that unlike a simple breadth search, we need a way to say “*this cell to the right has more promise than the cell to my left*”.\n",
    "Importantly, we also need to make sure that we have a mechanism to return to earlier points in the path, unlike a greedy pathfinding solution. [5]"
   ]
  },
  {
   "cell_type": "markdown",
   "metadata": {},
   "source": [
    "To break this down a bit more and in plain language, lets assign each cell to have 3 values:\n",
    "\n",
    "g: The distance to the goal as the crow flies\n",
    "h: The distance from the start as the crow flies\n",
    "cost: the sum of the 2\n",
    "\n",
    "The basic loop is as follows:\n",
    "\n",
    "Step 1\n",
    "If end is not found, explore the next cell by finding the surrounding cells that are not closed, calculate the g, h, and cost values, set them to open if they are not already (at the beginning, the next cell is just the starting cell)\n",
    "\n",
    "Step 2\n",
    "Order the open cells by cost\n",
    "\n",
    "Step 3\n",
    "Explore all open cells in order of cost\n",
    "If there are no ties, go to Step 1\n",
    "\n",
    "Step 4\n",
    "If there is a tie, explore the cell with a lower h\n",
    "If there is still a tie, then select one at random\n",
    "Go to Step 1\n"
   ]
  },
  {
   "cell_type": "markdown",
   "metadata": {},
   "source": [
    "## Demo (Combined)\n",
    "[Try to visualize the algorithm]"
   ]
  },
  {
   "cell_type": "markdown",
   "metadata": {},
   "source": [
    "## Variants\n",
    "[There are many parameters and variations. Pick a few to dive into about differences and why and where they may be used and briefly talk about others]"
   ]
  },
  {
   "cell_type": "markdown",
   "metadata": {},
   "source": [
    "## Conclusions (Daniel Sedlov 123120712)\n",
    "[Summarize everything here]"
   ]
  },
  {
   "cell_type": "code",
   "execution_count": null,
   "metadata": {},
   "outputs": [],
   "source": []
  }
 ],
 "metadata": {
  "kernelspec": {
   "display_name": "Python 3",
   "language": "python",
   "name": "python3"
  },
  "language_info": {
   "codemirror_mode": {
    "name": "ipython",
    "version": 3
   },
   "file_extension": ".py",
   "mimetype": "text/x-python",
   "name": "python",
   "nbconvert_exporter": "python",
   "pygments_lexer": "ipython3",
   "version": "3.8.2"
  }
 },
 "nbformat": 4,
 "nbformat_minor": 4
}
